{
 "cells": [
  {
   "cell_type": "code",
   "execution_count": 2,
   "id": "a5f94621",
   "metadata": {},
   "outputs": [],
   "source": [
    "import pandas as pd\n",
    "import numpy as np\n",
    "from matplotlib import pyplot as plt\n",
    "from xgboost import XGBRegressor\n",
    "from sklearn.metrics import mean_absolute_error\n",
    "import pylab as pl\n",
    "from sklearn.tree import DecisionTreeClassifier\n",
    "test=pd.read_csv(\"test.csv\")\n",
    "train=pd.read_csv(\"train.csv\")\n",
    "sample=pd.read_csv(\"sample_submission.csv\")   \n",
    "for df in [test,train]:\n",
    "    df[\"eletrical1\"]=df[\"Electrical\"].map({\"FuseP\":3,\"FuseF\":2,\"FuseA\":1,\"SBrkr\":0})\n",
    "    df[\"regiao\"]=df[\"Street\"].map({\"Grvl\":0,\"Pave\":1})\n",
    "    df[\"ali\"]=df[\"Alley\"].map({\"Grvl\":1,\"Pave\":2})\n",
    "    df[\"naosei\"]=df[\"LotShape\"].map({\"IR3\":0,\"IR2\":1,\"IR1\":2,\"Reg\":3})\n",
    "    df[\"landc\"]=df[\"LandContour\"].map({\"HLS\":0,\"Low\":1,\"Bnk\":2,\"Lvl\":3})\n",
    "    df[\"util\"]=df[\"Utilities\"].map({\"NoSeWa\":1,\"AllPub\":2})\n",
    "    df[\"lotconf\"]=df[\"LotConfig\"].map({\"FR3\":0,\"FR2\":1,\"Corner\":2,\"CulDSac\":3,\"Inside\":4})\n",
    "    df[\"landsl\"]=df[\"LandSlope\"].map({\"Sev\":0,\"Mod\":1,\"Gtl\":2})\n",
    "    df[\"neighb\"]=df[\"Neighborhood\"].map({\"Blueste\":0,\"SWISU\":1,\"BrDale\":2,\"Blmngtn\":3,\"NPkVill\":4,\n",
    "                                         \"ClearCr\":5,\"StoneBr\":6,\"Gilbert\":7,\"Timber\":8,\"Edwards\":9,\"MeadowV\":10,\n",
    "                                        \"IDOTRR\":11,\"NAmes\":12,\"SawyerW\":13,\"NridgHt\":14,\n",
    "                                         \"Sawyer\":15,\"BrkSide\":16,\"OldTown\":17,\"NWAmes\":18,\"Somerst\":19,\"Mitchel\":20,\n",
    "                                        \"NoRidge\":21,\"Crawfor\":22,\"Veenker\":23,\"CollgCr\":24})\n",
    "    df[\"cond1\"]=df[\"Condition1\"].map({\"RRAe\":3,\"RRNn\":2,\"PosA\":1,\"RRNe\":0,\"Artery\":4,\"PosN\":5,\"Feedr\":6,\"Norm\":7})\n",
    "    df[\"cond2\"]=df[\"Condition2\"].map({\"RRAe\":3,\"RRNn\":2,\"PosA\":1,\"Artery\":4,\"PosN\":5,\"Feedr\":6,\"Norm\":7,\"RRAn\":0})\n",
    "    df[\"blt\"]=df[\"BldgType\"].map({\"Twnhs\":0,\"TwnhsE\":1,\"Duplex\":2,\"2fmCon\":3,\"1Fam\":4})\n",
    "    df[\"houst\"]=df[\"HouseStyle\"].map({\"2.5Fin\":0,\"2.5Unf\":1,\"SLvl\":2,\"SFoyer\":3,\"1.5Unf\":4,\"1.5Fin\":5,\"1Story\":6,\"2Story\":7})\n",
    "    df[\"roofs\"]=df[\"RoofStyle\"].map({\"Hip\":0,\"Gambrel\":1,\"Mansard\":2,\"Flat\":3,\"Shed\":4,\"Gable\":5})\n",
    "    df[\"roofm\"]=df[\"RoofMatl\"].map({\"ClyTile\":0,\"Roll\":1,\"Tar&Grv\":2,\"Membran\":3,\"WdShake\":4,\n",
    "                                    \"Metal\":5,\"WdShngl\":6,\"CompShg\":7})\n",
    "    df[\"exter1\"]=df[\"Exterior1st\"].map({\"CBlock\":0,\"ImStucc\":1,\"Stone\":2,\"AsphShn\":3,\"BrkComm\":4,\"Stucco\":5,\n",
    "                                        \"AsbShng\":6,\"Plywood\":7,\"CemntBd\":8,\"WdShing\":9,\"BrkFace\":10,\"HdBoard\":11,\n",
    "                                        \"Wd Sdng\":12,\"MetalSd\":13,\"VinylSd\":14})\n",
    "    df[\"exter2\"]=df[\"Exterior2nd\"].map({\"CBlock\":0,\"Other\":1,\"Stone\":2,\"AsphShn\":3,\"ImStucc\":4,\"Brk Cmn\":5,\"AsbShng\":6,\n",
    "                                        \"Stucco\":7,\"BrkFace\":8,\"CmentBd\":9,\"Wd Sdng\":10,\"Plywood\":11,\"HdBoard\":12,\n",
    "                                        \"Wd Shng\":13, \"MetalSd\":14,\"VinylSd\":15})\n",
    "    df[\"masvnt\"]=df[\"MasVnrType\"].map({\"BrkFace\":0,\"None\":1,\"Stone\":2})             \n",
    "    df[\"exterq\"]=df[\"ExterQual\"].map({\"Fa\":0,\"Ex\":1,\"TA\":2,\"Gd\":3})\n",
    "    df[\"exterc\"]=df[\"ExterCond\"].map({\"Ex\":0,\"Po\":1,\"Fa\":2,\"Gd\":3,\"TA\":4})\n",
    "    df[\"found\"]=df[\"Foundation\"].map({\"Stone\":0,\"Slab\":1,\"Wood\":2,\"BrkTil\":3,\"CBlock\":4,\"PConc\":5})\n",
    "    df[\"bsmtq\"]=df[\"BsmtQual\"].map({\"TA\":0,\"Ex\":1,\"Gd\":2,\"Fa\":3})\n",
    "    df[\"bsmtc\"]=df[\"BsmtCond\"].map({\"TA\":0,\"Ex\":1,\"Gd\":2,\"Fa\":3})\n",
    "    df[\"bsmte\"]=df[\"BsmtExposure\"].map({\"No\":0,\"Mn\":1,\"Av\":2,\"Gd\":3})\n",
    "    df[\"bsmtf1\"]=df[\"BsmtFinType1\"].map({\"Unf\":0,\"ALQ\":1,\"GLQ\":2,\"BLQ\":3,\"Rec\":4,\"LwQ\":5})\n",
    "    df[\"bsmtf2\"]=df[\"BsmtFinType2\"].map({\"Unf\":0,\"ALQ\":1,\"GLQ\":2,\"BLQ\":3,\"Rec\":4,\"LwQ\":5})\n",
    "    df[\"heat\"]=df[\"Heating\"].map({\"Floor\":0,\"OthW\":1,\"Wall\":2,\"Grav\":3,\"GasW\":4,\"GasA\":5})\n",
    "    df[\"heatqc\"]=df[\"HeatingQC\"].map({\"Po\":0,\"Fa\":1,\"TA\":2,\"Gd\":3,\"Ex\":4})\n",
    "    df[\"centralair\"]=df[\"CentralAir\"].map({\"N\":0,\"Y\":1})\n",
    "    df[\"kitchq\"]=df[\"KitchenQual\"].map({\"Fa\":0,\"Ex\":1,\"TA\":2,\"Gd\":3})\n",
    "    df[\"funct\"]=df[\"Functional\"].map({\"Sev\":0,\"Maj2\":1,\"Mod\":2,\"Min2\":3,\"Maj1\":4,\"Min1\":5,\"Typ\":6})\n",
    "    df[\"firequ\"]=df[\"FireplaceQu\"].map({\"Gd\":1,\"TA\":2,\"Fa\":3,\"Ex\":4})\n",
    "    df[\"garaget\"]=df[\"GarageType\"].map({\"Attchd\":0,\"Detchd\":1,\"BuiltIn\":2,\"Basment\":3,\"CarPort\":4})\n",
    "    df[\"garagef\"]=df[\"GarageFinish\"].map({\"Unf\":0,\"RFn\":1,\"Fin\":2})\n",
    "    df[\"garagequ\"]=df[\"GarageQual\"].map({\"TA\":0,\"Gd\":1,\"Fa\":2,\"Ex\":3,\"Po\":4})\n",
    "    df[\"garagec\"]=df[\"GarageCond\"].map({\"TA\":0,\"Gd\":1,\"Fa\":2,\"Ex\":3,\"Po\":4})\n",
    "    df[\"paved\"]=df[\"PavedDrive\"].map({\"P\":0,\"N\":1,\"Y\":2})\n",
    "    df[\"pool\"]=df[\"PoolQC\"].map({\"TA\":1,\"Ex\":2})\n",
    "    df[\"fence\"]=df[\"Fence\"].map({\"MnPrv\":1,\"GdPrv\":2,\"GdWo\":3,\"GdWo\":4})\n",
    "    df[\"miscf\"]=df[\"MiscFeature\"].map({\"Shed\":1,\"Gar2\":2})\n",
    "    df[\"salet\"]=df[\"SaleType\"].map({\"Oth\":0,\"Con\":1,\"ConLw\":2,\"CWD\":3,\"ConLI\":4,\n",
    "                                   \"ConLD\":5,\"COD\":6,\"New\":7,\"WD\":8})\n",
    "    df[\"salec\"]=df[\"SaleCondition\"].map({\"Family\":0,\"Alloca\":1,\"AdjLand\":2,\"Partial\":3,\"Abnorml\":4,\"Normal\":5}) \n",
    "    \n",
    "test1=test.fillna(0)\n",
    "test1[\"LotFrontage\"]=test[\"LotFrontage\"].fillna(21.000000)\n",
    "test1[\"MSSubClass\"]=test[\"MSSubClass\"].fillna(20.000000)\n",
    "test1[\"MoSold\"]=test[\"MoSold\"].fillna(1)\n",
    "test1[\"MasVnrType\"]=test[\"MasVnrType\"].fillna(1)\n",
    "\n",
    "train1=train.fillna(0)\n",
    "train1[\"LotFrontage\"]=train[\"LotFrontage\"].fillna(21.000000)\n",
    "train1[\"MSSubClass\"]=train[\"MSSubClass\"].fillna(20.000000)\n",
    "train1[\"MoSold\"]=train[\"MoSold\"].fillna(1)\n",
    "train1[\"MasVnrType\"]=train[\"MasVnrType\"].fillna(1)\n",
    "\n",
    "tabela=[\"MSSubClass\",\"LotArea\",\"OverallQual\",\"OverallCond\",\"YearBuilt\",\"YearRemodAdd\",\"BsmtFinSF1\",\"LotFrontage\",\"MasVnrArea\",\n",
    "       \"BsmtFinSF2\",\"BsmtUnfSF\",\"TotalBsmtSF\",\"1stFlrSF\",\"2ndFlrSF\",\"LowQualFinSF\",\"GrLivArea\",\"BsmtFullBath\",\"BsmtHalfBath\",\n",
    "       \"FullBath\",\"HalfBath\",\"BedroomAbvGr\",\"KitchenAbvGr\",\"TotRmsAbvGrd\",\"Fireplaces\",\"GarageCars\",\"GarageArea\",\"GarageYrBlt\",\n",
    "       \"WoodDeckSF\",\"OpenPorchSF\",\"EnclosedPorch\",\"3SsnPorch\",\"ScreenPorch\",\"PoolArea\",\"MiscVal\",\"MoSold\",\"YrSold\",\"eletrical1\",\n",
    "        \"regiao\",\"ali\",\"naosei\",\"landc\",\"util\",\"lotconf\",\"landsl\",\"neighb\",\"cond1\",\"cond2\",\"blt\",\"houst\",\"roofs\",\"roofm\",\n",
    "        \"exter1\",\"exter2\",\"masvnt\",\"exterq\",\"exterc\",\"found\",\"bsmtq\",\"bsmtc\",\"bsmte\",\"bsmtf1\",\"bsmtf2\",\"heat\",\"heatqc\",\n",
    "        \"centralair\",\"kitchq\",\"funct\",\"firequ\",\"garaget\",\"garagef\",\"garagequ\",\"paved\",\"pool\",\"fence\",\"miscf\",\"salet\",\"salec\"]\n",
    "xtr=train1[tabela]\n",
    "ytr=train1[\"SalePrice\"]\n",
    "xts=test1[tabela]\n",
    "yts=sample[\"SalePrice\"]"
   ]
  },
  {
   "cell_type": "code",
   "execution_count": 5,
   "id": "2feb0950",
   "metadata": {},
   "outputs": [],
   "source": [
    "xg=XGBRegressor(random_state=5,learning_rate=0.01,n_estimators=300)\n",
    "xg.fit(xtr,ytr)\n",
    "pr2=xg.predict(xts)"
   ]
  },
  {
   "cell_type": "code",
   "execution_count": 23,
   "id": "77e1cd8a",
   "metadata": {},
   "outputs": [],
   "source": [
    "dmc=DecisionTreeClassifier(random_state=5,min_samples_split=7)\n",
    "dmc.fit(xtr,ytr)\n",
    "pr3=dmc.predict(xts)"
   ]
  },
  {
   "cell_type": "code",
   "execution_count": 24,
   "id": "a8a0f739",
   "metadata": {},
   "outputs": [
    {
     "data": {
      "text/plain": [
       "51804.24736558991"
      ]
     },
     "execution_count": 24,
     "metadata": {},
     "output_type": "execute_result"
    }
   ],
   "source": [
    "mean_absolute_error(yts,pr3)"
   ]
  },
  {
   "cell_type": "code",
   "execution_count": 6,
   "id": "017445a2",
   "metadata": {},
   "outputs": [
    {
     "data": {
      "text/plain": [
       "53167.438325518946"
      ]
     },
     "execution_count": 6,
     "metadata": {},
     "output_type": "execute_result"
    }
   ],
   "source": [
    "mean_absolute_error(yts,pr2)"
   ]
  },
  {
   "cell_type": "code",
   "execution_count": null,
   "id": "5a6e1f93",
   "metadata": {},
   "outputs": [],
   "source": [
    "leaar0.9 =58206.55103972301\n",
    "lear0.2  =54875.99864553051\n",
    "lear0.1  =54827.34411258363\n",
    "lear0.01 =54596.085220918336\n",
    "lear0.02 =54836.0612346918\n",
    "lear0.03 =54627.78251331152\n",
    "lear0.09 =54988.24635299054\n",
    "lear0.001=162237.95\n",
    "n10000=54838.89220991333\n",
    "n1000 =54596.085220918336\n",
    "n5000 =54829.519701820376\n",
    "n900  =54583.86848445685\n",
    "n100  =72990.2755285404\n",
    "n500  =54016.688989066155\n",
    "n600  =54270.66825290566\n",
    "n400  =53676.15442247671\n",
    "n300  =53320.483567223644\n",
    "n200  =54542.70021470589"
   ]
  },
  {
   "cell_type": "code",
   "execution_count": 213,
   "id": "b7527bb9",
   "metadata": {
    "scrolled": true
   },
   "outputs": [
    {
     "name": "stdout",
     "output_type": "stream",
     "text": [
      "<class 'pandas.core.frame.DataFrame'>\n",
      "RangeIndex: 1460 entries, 0 to 1459\n",
      "Data columns (total 123 columns):\n",
      " #    Column         Non-Null Count  Dtype  \n",
      "---   ------         --------------  -----  \n",
      " 0    Id             1460 non-null   int64  \n",
      " 1    MSSubClass     1460 non-null   int64  \n",
      " 2    MSZoning       1460 non-null   object \n",
      " 3    LotFrontage    1201 non-null   float64\n",
      " 4    LotArea        1460 non-null   int64  \n",
      " 5    Street         1460 non-null   object \n",
      " 6    Alley          91 non-null     object \n",
      " 7    LotShape       1460 non-null   object \n",
      " 8    LandContour    1460 non-null   object \n",
      " 9    Utilities      1460 non-null   object \n",
      " 10   LotConfig      1460 non-null   object \n",
      " 11   LandSlope      1460 non-null   object \n",
      " 12   Neighborhood   1460 non-null   object \n",
      " 13   Condition1     1460 non-null   object \n",
      " 14   Condition2     1460 non-null   object \n",
      " 15   BldgType       1460 non-null   object \n",
      " 16   HouseStyle     1460 non-null   object \n",
      " 17   OverallQual    1460 non-null   int64  \n",
      " 18   OverallCond    1460 non-null   int64  \n",
      " 19   YearBuilt      1460 non-null   int64  \n",
      " 20   YearRemodAdd   1460 non-null   int64  \n",
      " 21   RoofStyle      1460 non-null   object \n",
      " 22   RoofMatl       1460 non-null   object \n",
      " 23   Exterior1st    1460 non-null   object \n",
      " 24   Exterior2nd    1460 non-null   object \n",
      " 25   MasVnrType     1452 non-null   object \n",
      " 26   MasVnrArea     1452 non-null   float64\n",
      " 27   ExterQual      1460 non-null   object \n",
      " 28   ExterCond      1460 non-null   object \n",
      " 29   Foundation     1460 non-null   object \n",
      " 30   BsmtQual       1423 non-null   object \n",
      " 31   BsmtCond       1423 non-null   object \n",
      " 32   BsmtExposure   1422 non-null   object \n",
      " 33   BsmtFinType1   1423 non-null   object \n",
      " 34   BsmtFinSF1     1460 non-null   int64  \n",
      " 35   BsmtFinType2   1422 non-null   object \n",
      " 36   BsmtFinSF2     1460 non-null   int64  \n",
      " 37   BsmtUnfSF      1460 non-null   int64  \n",
      " 38   TotalBsmtSF    1460 non-null   int64  \n",
      " 39   Heating        1460 non-null   object \n",
      " 40   HeatingQC      1460 non-null   object \n",
      " 41   CentralAir     1460 non-null   object \n",
      " 42   Electrical     1459 non-null   object \n",
      " 43   1stFlrSF       1460 non-null   int64  \n",
      " 44   2ndFlrSF       1460 non-null   int64  \n",
      " 45   LowQualFinSF   1460 non-null   int64  \n",
      " 46   GrLivArea      1460 non-null   int64  \n",
      " 47   BsmtFullBath   1460 non-null   int64  \n",
      " 48   BsmtHalfBath   1460 non-null   int64  \n",
      " 49   FullBath       1460 non-null   int64  \n",
      " 50   HalfBath       1460 non-null   int64  \n",
      " 51   BedroomAbvGr   1460 non-null   int64  \n",
      " 52   KitchenAbvGr   1460 non-null   int64  \n",
      " 53   KitchenQual    1460 non-null   object \n",
      " 54   TotRmsAbvGrd   1460 non-null   int64  \n",
      " 55   Functional     1460 non-null   object \n",
      " 56   Fireplaces     1460 non-null   int64  \n",
      " 57   FireplaceQu    770 non-null    object \n",
      " 58   GarageType     1379 non-null   object \n",
      " 59   GarageYrBlt    1379 non-null   float64\n",
      " 60   GarageFinish   1379 non-null   object \n",
      " 61   GarageCars     1460 non-null   int64  \n",
      " 62   GarageArea     1460 non-null   int64  \n",
      " 63   GarageQual     1379 non-null   object \n",
      " 64   GarageCond     1379 non-null   object \n",
      " 65   PavedDrive     1460 non-null   object \n",
      " 66   WoodDeckSF     1460 non-null   int64  \n",
      " 67   OpenPorchSF    1460 non-null   int64  \n",
      " 68   EnclosedPorch  1460 non-null   int64  \n",
      " 69   3SsnPorch      1460 non-null   int64  \n",
      " 70   ScreenPorch    1460 non-null   int64  \n",
      " 71   PoolArea       1460 non-null   int64  \n",
      " 72   PoolQC         7 non-null      object \n",
      " 73   Fence          281 non-null    object \n",
      " 74   MiscFeature    54 non-null     object \n",
      " 75   MiscVal        1460 non-null   int64  \n",
      " 76   MoSold         1460 non-null   int64  \n",
      " 77   YrSold         1460 non-null   int64  \n",
      " 78   SaleType       1460 non-null   object \n",
      " 79   SaleCondition  1460 non-null   object \n",
      " 80   SalePrice      1460 non-null   int64  \n",
      " 81   eletrical1     1458 non-null   float64\n",
      " 82   regiao         1460 non-null   int64  \n",
      " 83   ali            91 non-null     float64\n",
      " 84   naosei         1460 non-null   int64  \n",
      " 85   landc          1460 non-null   int64  \n",
      " 86   util           1460 non-null   int64  \n",
      " 87   lotconf        1460 non-null   int64  \n",
      " 88   landsl         1460 non-null   int64  \n",
      " 89   neighb         1460 non-null   int64  \n",
      " 90   cond1          1434 non-null   float64\n",
      " 91   cond2          1460 non-null   int64  \n",
      " 92   blt            1460 non-null   int64  \n",
      " 93   houst          1460 non-null   int64  \n",
      " 94   roofs          1460 non-null   int64  \n",
      " 95   roofm          1460 non-null   int64  \n",
      " 96   exter1         1460 non-null   int64  \n",
      " 97   exter2         1460 non-null   int64  \n",
      " 98   masvnt         1437 non-null   float64\n",
      " 99   exterq         1460 non-null   int64  \n",
      " 100  exterc         1460 non-null   int64  \n",
      " 101  found          1460 non-null   int64  \n",
      " 102  bsmtq          1423 non-null   float64\n",
      " 103  bsmtc          1421 non-null   float64\n",
      " 104  bsmte          1422 non-null   float64\n",
      " 105  bsmtf1         1423 non-null   float64\n",
      " 106  bsmtf2         1422 non-null   float64\n",
      " 107  heat           1460 non-null   int64  \n",
      " 108  heatqc         1460 non-null   int64  \n",
      " 109  centralair     1460 non-null   int64  \n",
      " 110  kitchq         1460 non-null   int64  \n",
      " 111  funct          1460 non-null   int64  \n",
      " 112  firequ         750 non-null    float64\n",
      " 113  garaget        1373 non-null   float64\n",
      " 114  garagef        1379 non-null   float64\n",
      " 115  garagequ       1379 non-null   float64\n",
      " 116  garagec        1379 non-null   float64\n",
      " 117  paved          1460 non-null   int64  \n",
      " 118  pool           2 non-null      float64\n",
      " 119  fence          270 non-null    float64\n",
      " 120  miscf          51 non-null     float64\n",
      " 121  salet          1460 non-null   int64  \n",
      " 122  salec          1460 non-null   int64  \n",
      "dtypes: float64(20), int64(60), object(43)\n",
      "memory usage: 1.4+ MB\n"
     ]
    }
   ],
   "source": [
    "train.info(verbose=True,show_counts=True)"
   ]
  },
  {
   "cell_type": "code",
   "execution_count": 211,
   "id": "b834f5cd",
   "metadata": {
    "scrolled": true
   },
   "outputs": [
    {
     "data": {
      "text/plain": [
       "[<matplotlib.lines.Line2D at 0xc302280>]"
      ]
     },
     "execution_count": 211,
     "metadata": {},
     "output_type": "execute_result"
    },
    {
     "data": {
      "image/png": "[encoded data removed]",
      "text/plain": [
       "<Figure size 720x360 with 1 Axes>"
      ]
     },
     "metadata": {
      "needs_background": "light"
     },
     "output_type": "display_data"
    }
   ],
   "source": [
    "pl.figure(figsize=(10,5))\n",
    "plt.plot(train1[\"SaleCondition\"])\n",
    "#SaleCondition,Family:0,Alloca:1,AdjLand:2,Partial:3,Abnorml:4,Normal:5"
   ]
  },
  {
   "cell_type": "code",
   "execution_count": 206,
   "id": "0615b3f2",
   "metadata": {},
   "outputs": [
    {
     "data": {
      "text/plain": [
       "105      NaN\n",
       "106     Shed\n",
       "107      NaN\n",
       "108      NaN\n",
       "109      NaN\n",
       "        ... \n",
       "1455     NaN\n",
       "1456     NaN\n",
       "1457    Shed\n",
       "1458     NaN\n",
       "1459     NaN\n",
       "Name: MiscFeature, Length: 1355, dtype: object"
      ]
     },
     "execution_count": 206,
     "metadata": {},
     "output_type": "execute_result"
    }
   ],
   "source": [
    "train[\"MiscFeature\"].tail(-105)#MiscFeature,Shed:1,Gar2:2,:3,:4"
   ]
  },
  {
   "cell_type": "code",
   "execution_count": 4,
   "id": "31861184",
   "metadata": {},
   "outputs": [],
   "source": []
  },
  {
   "cell_type": "code",
   "execution_count": null,
   "id": "9c23d753",
   "metadata": {
    "scrolled": true
   },
   "outputs": [],
   "source": []
  },
  {
   "cell_type": "code",
   "execution_count": 17,
   "id": "680e1360",
   "metadata": {},
   "outputs": [],
   "source": [
    "my_submission=pd.DataFrame()\n",
    "my_submission[\"SalePrice\"]=pr2\n",
    "my_submission[\"Id\"]=test[\"Id\"]"
   ]
  },
  {
   "cell_type": "code",
   "execution_count": 18,
   "id": "55f62c71",
   "metadata": {},
   "outputs": [
    {
     "name": "stdout",
     "output_type": "stream",
     "text": [
      "Saved file: submission.csv\n"
     ]
    }
   ],
   "source": [
    "filename = 'submission.csv'\n",
    "my_submission .to_csv(filename,index=False)\n",
    "print('Saved file: ' + filename)"
   ]
  },
  {
   "cell_type": "code",
   "execution_count": null,
   "id": "062cffa3",
   "metadata": {},
   "outputs": [],
   "source": []
  }
 ],
 "metadata": {
  "kernelspec": {
   "display_name": "Python 3",
   "language": "python",
   "name": "python3"
  },
  "language_info": {
   "codemirror_mode": {
    "name": "ipython",
    "version": 3
   },
   "file_extension": ".py",
   "mimetype": "text/x-python",
   "name": "python",
   "nbconvert_exporter": "python",
   "pygments_lexer": "ipython3",
   "version": "3.8.8"
  }
 },
 "nbformat": 4,
 "nbformat_minor": 5
}
